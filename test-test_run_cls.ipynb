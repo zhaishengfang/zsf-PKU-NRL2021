{
 "cells": [
  {
   "cell_type": "code",
   "execution_count": 1,
   "metadata": {
    "collapsed": true
   },
   "outputs": [
    {
     "name": "stderr",
     "output_type": "stream",
     "text": [
      "D:\\Anaconda3\\envs\\gt\\lib\\site-packages\\ipykernel_launcher.py:28: UserWarning: Creating a tensor from a list of numpy.ndarrays is extremely slow. Please consider converting the list to a single numpy.ndarray with numpy.array() before converting to a tensor. (Triggered internally at  ..\\torch\\csrc\\utils\\tensor_new.cpp:201.)\n"
     ]
    },
    {
     "name": "stdout",
     "output_type": "stream",
     "text": [
      "\nlen graphs: 2913\nNum_node_features: 34\nmodel i:  0 \n GCN_cls_e(\n  (bond_embed): Linear(in_features=10, out_features=1, bias=True)\n  (conv1): GraphConv(34, 32)\n  (conv2): GraphConv(32, 32)\n  (lin1): Linear(in_features=64, out_features=32, bias=True)\n  (lin2): Linear(in_features=32, out_features=4, bias=True)\n) \n\nmodel i:  1 \n GCN_cls_e(\n  (bond_embed): Linear(in_features=10, out_features=1, bias=True)\n  (conv1): GraphConv(34, 32)\n  (conv2): GraphConv(32, 32)\n  (lin1): Linear(in_features=64, out_features=32, bias=True)\n  (lin2): Linear(in_features=32, out_features=4, bias=True)\n) \n\nmodel i:  2 \n GCN_cls_e(\n  (bond_embed): Linear(in_features=10, out_features=1, bias=True)\n  (conv1): GraphConv(34, 32)\n  (conv2): GraphConv(32, 32)\n  (lin1): Linear(in_features=64, out_features=32, bias=True)\n  (lin2): Linear(in_features=32, out_features=4, bias=True)\n) \n\nmodel i:  3 \n GCN_cls_e(\n  (bond_embed): Linear(in_features=10, out_features=1, bias=True)\n  (conv1): GraphConv(34, 32)\n  (conv2): GraphConv(32, 32)\n  (lin1): Linear(in_features=64, out_features=32, bias=True)\n  (lin2): Linear(in_features=32, out_features=4, bias=True)\n) \n\nmodel i:  4 \n GCN_cls_e(\n  (bond_embed): Linear(in_features=10, out_features=1, bias=True)\n  (conv1): GraphConv(34, 32)\n  (conv2): GraphConv(32, 32)\n  (lin1): Linear(in_features=64, out_features=32, bias=True)\n  (lin2): Linear(in_features=32, out_features=4, bias=True)\n) \n\nmodel i:  5 \n GCN_cls_e(\n  (bond_embed): Linear(in_features=10, out_features=1, bias=True)\n  (conv1): GraphConv(34, 32)\n  (conv2): GraphConv(32, 32)\n  (lin1): Linear(in_features=64, out_features=32, bias=True)\n  (lin2): Linear(in_features=32, out_features=4, bias=True)\n) \n\nmodel i:  6 \n GCN_cls_e(\n  (bond_embed): Linear(in_features=10, out_features=1, bias=True)\n  (conv1): GraphConv(34, 32)\n  (conv2): GraphConv(32, 32)\n  (lin1): Linear(in_features=64, out_features=32, bias=True)\n  (lin2): Linear(in_features=32, out_features=4, bias=True)\n) \n\nmodel i:  7 \n GCN_cls_e(\n  (bond_embed): Linear(in_features=10, out_features=1, bias=True)\n  (conv1): GraphConv(34, 32)\n  (conv2): GraphConv(32, 32)\n  (lin1): Linear(in_features=64, out_features=32, bias=True)\n  (lin2): Linear(in_features=32, out_features=4, bias=True)\n) \n\nmodel i:  8 \n GCN_cls_e(\n  (bond_embed): Linear(in_features=10, out_features=1, bias=True)\n  (conv1): GraphConv(34, 32)\n  (conv2): GraphConv(32, 32)\n  (lin1): Linear(in_features=64, out_features=32, bias=True)\n  (lin2): Linear(in_features=32, out_features=4, bias=True)\n) \n\nmodel i:  9 \n GCN_cls_e(\n  (bond_embed): Linear(in_features=10, out_features=1, bias=True)\n  (conv1): GraphConv(34, 32)\n  (conv2): GraphConv(32, 32)\n  (lin1): Linear(in_features=64, out_features=32, bias=True)\n  (lin2): Linear(in_features=32, out_features=4, bias=True)\n) \n\nmodel i:  10 \n GCN_cls_e(\n  (bond_embed): Linear(in_features=10, out_features=1, bias=True)\n  (conv1): GraphConv(34, 32)\n  (conv2): GraphConv(32, 32)\n  (lin1): Linear(in_features=64, out_features=32, bias=True)\n  (lin2): Linear(in_features=32, out_features=4, bias=True)\n) \n\nmodel i:  11 \n GCN_cls_e(\n  (bond_embed): Linear(in_features=10, out_features=1, bias=True)\n  (conv1): GraphConv(34, 32)\n  (conv2): GraphConv(32, 32)\n  (lin1): Linear(in_features=64, out_features=32, bias=True)\n  (lin2): Linear(in_features=32, out_features=4, bias=True)\n) \n\nmodel i:  12 \n GCN_cls_e(\n  (bond_embed): Linear(in_features=10, out_features=1, bias=True)\n  (conv1): GraphConv(34, 32)\n  (conv2): GraphConv(32, 32)\n  (lin1): Linear(in_features=64, out_features=32, bias=True)\n  (lin2): Linear(in_features=32, out_features=4, bias=True)\n) \n\ncls models loaded.\n"
     ]
    }
   ],
   "source": [
    "from model.myGNN import *\n",
    "import torch\n",
    "from torch_geometric.loader import DataLoader\n",
    "from data.load_data import load_data\n",
    "from torch_geometric.data import Data\n",
    "import random\n",
    "\n",
    "BATCH_SIZE = 16\n",
    "\n",
    "# def get_data_model(name):\n",
    "\n",
    "name = r\"sars\"\n",
    "\n",
    "# model_paths = []\n",
    "models = []\n",
    "\n",
    "\n",
    "list_mol_graph, properties = load_data(data_name=name, set_name='test')\n",
    "\n",
    "properties = torch.FloatTensor(properties)\n",
    "mean = torch.mean(properties, dim=0, keepdim=True)\n",
    "std = torch.std(properties, dim=0, keepdim=True)\n",
    "\n",
    "Datas = []\n",
    "for i_mol_graph in list_mol_graph:\n",
    "    # print(y)\n",
    "    e_index = torch.tensor([np.concatenate((i_mol_graph.start_indices, i_mol_graph.end_indices), axis=0),\n",
    "                            np.concatenate((i_mol_graph.end_indices, i_mol_graph.start_indices), axis=0)]).long()\n",
    "    nodes_x = torch.tensor(i_mol_graph.atom_features).float()\n",
    "    e_attr = torch.tensor(np.concatenate((i_mol_graph.bond_features, i_mol_graph.bond_features), axis=0)).float()\n",
    "    # yi =  y.float() # normalize_prop(torch.tensor(properties[i]).float())\n",
    "    datai = Data(x=nodes_x, edge_index=e_index, edge_attr=e_attr)\n",
    "    Datas.append(datai)\n",
    "\n",
    "print('\\nlen graphs:', len(Datas))\n",
    "\n",
    "Num_node_features = len(Datas[0].x[0])\n",
    "print('Num_node_features:', Num_node_features)\n",
    "\n",
    "test_dataset = Datas\n",
    "\n",
    "test_loader = DataLoader(test_dataset, batch_size=BATCH_SIZE, shuffle=False)\n",
    "\n",
    "\n",
    "\n",
    "for tar_i in range(0, 13):\n",
    "    model_path = r\"model/pt/\" + name + \"-target_\"+str(tar_i)+\".pkl\"\n",
    "    modeli =  GCN_cls_e(hidden_channels=32, Num_node_features=Num_node_features, num_classes=4)\n",
    "    modeli.load_state_dict(torch.load(model_path))\n",
    "    models.append(modeli)\n",
    "\n",
    "for model in models:\n",
    "        print('model i: ',models.index(model),'\\n',  model, '\\n')\n",
    "\n",
    "print(\"cls models loaded.\")\n",
    "from data.load_data import output_answer"
   ]
  },
  {
   "cell_type": "code",
   "execution_count": 6,
   "metadata": {},
   "outputs": [
    {
     "name": "stdout",
     "output_type": "stream",
     "text": [
      "torch.Size([13, 2913])\ntorch.Size([2913, 13])\n"
     ]
    }
   ],
   "source": [
    "\n",
    "\n",
    "loader = test_loader\n",
    "for model in models:\n",
    "    model.eval()\n",
    "\n",
    "list_pred = []\n",
    "# list_y = []\n",
    "for data in loader:  # 批遍历测试集数据集。\n",
    "    predi_list = []\n",
    "    for model in models:\n",
    "        out = model(data.x, data.edge_index, data.edge_attr, data.batch)  # 一次前向传播   data.edge_attr,\n",
    "        pred = out.argmax(dim=1)  # 使用概率最高的类别\n",
    "        predi_list.append(pred.tolist())\n",
    "    predi_tensor = torch.tensor(predi_list)\n",
    "    # print(predi_tensor.shape)\n",
    "    \n",
    "    # assert len(predi_list)==13\n",
    "    list_pred.append(predi_tensor)\n",
    "\n",
    "# np_pred = np.array(list_pred)\n",
    "output_tensor = torch.cat(list_pred, dim=1)\n",
    "print(output_tensor.shape)\n",
    "output_tensor=output_tensor.T\n",
    "print(output_tensor.shape)\n",
    "print()\n",
    "# total_pred = torch.tensor(list_pred).unsqueeze(1)\n",
    "\n",
    "\n",
    "# print('****total_pred:', np_pred.shape)\n"
   ]
  },
  {
   "cell_type": "code",
   "execution_count": null,
   "metadata": {},
   "outputs": [
    {
     "name": "stdout",
     "output_type": "stream",
     "text": [
      "torch.Size([13, 2913])\ntorch.Size([2913, 13])\n"
     ]
    }
   ],
   "source": [
    "\n",
    "output_answer(name, np_pred)\n"
   ]
  },
  {
   "cell_type": "code",
   "execution_count": null,
   "metadata": {},
   "outputs": [],
   "source": []
  },
  {
   "cell_type": "code",
   "execution_count": null,
   "metadata": {},
   "outputs": [],
   "source": []
  }
 ],
 "metadata": {
  "kernelspec": {
   "display_name": "Python 2",
   "language": "python",
   "name": "python2"
  },
  "language_info": {
   "codemirror_mode": {
    "name": "ipython",
    "version": 2
   },
   "file_extension": ".py",
   "mimetype": "text/x-python",
   "name": "python",
   "nbconvert_exporter": "python",
   "pygments_lexer": "ipython2",
   "version": "2.7.6"
  }
 },
 "nbformat": 4,
 "nbformat_minor": 0
}
